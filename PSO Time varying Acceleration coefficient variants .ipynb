{
 "cells": [
  {
   "cell_type": "markdown",
   "metadata": {},
   "source": [
    "# 1. PSO-TVAC"
   ]
  },
  {
   "cell_type": "code",
   "execution_count": 2,
   "metadata": {},
   "outputs": [
    {
     "data": {
      "image/png": "[encoded data removed]",
      "text/plain": [
       "<Figure size 432x288 with 1 Axes>"
      ]
     },
     "metadata": {
      "needs_background": "light"
     },
     "output_type": "display_data"
    }
   ],
   "source": [
    "#-----------------------------------------------------*\n",
    "# CHIA E TUNGOM (CHEMAGO)\n",
    "# Nov 2019\n",
    "# PSO-TVAC - 2004\n",
    "#\n",
    "# [Research Paper] A. Ratnaweera, S. Halgamuge, H. Watson, Self-organizing hierarchical particle swarm optimizer with \n",
    "#                  time-varying acceleration coefficients, IEEE Trans. Evol. Comput. 8 (3) (2004) 240–255.\n",
    "#-----------------------------------------------------*\n",
    "# Formula    w(k+1)=wmax - ( (wmax - wmin) / kmax) · k\n",
    "#  w [0.4 and 0.9]\n",
    "# Python Code\n",
    "#-----------------------------------------------------*\n",
    "Kmax = 10   # Number of Iterations\n",
    "wmax = 0.9    # maximum weight\n",
    "wmin = 0.4    # minimum weight \n",
    "\n",
    "#for i in range(Kmax):\n",
    "#    w = wmax-(((wmax-wmin)/Kmax)*i)\n",
    "#    print (w)\n",
    "#----------------------------------------------------*\n",
    "\n",
    "#----------------------------------------------------*\n",
    "# Time Varying Acceleration coefiicients PSO\n",
    "#\n",
    "# c1(k+1) = c1i - ( ( c1i - c1f) / kmax) · k \n",
    "# c2(k+1) = c2i - ( ( c2i - c2f) / kmax) · k\n",
    "#\n",
    "# c1i  = initial cognitive acceleration and c1f  = final cognitive acceleration\n",
    "#\n",
    "# c2i  = initial social acceleration and c2f  = final social acceleration\n",
    "#\n",
    "#Python code\n",
    "#-----------------------------------------------------*\n",
    "\n",
    "c1i = 2.5     # is a constant\n",
    "c1f = 0.5     # is a constant \n",
    "c2i = 0.5     # is a constant \n",
    "c2f = 2.5     # is a constant\n",
    "\n",
    "Kmax = 50   # Number of interations\n",
    "\n",
    "a, b, c = [],[],[]\n",
    "\n",
    "for i in range(Kmax):\n",
    "    c1  = c1i - ( ( c1i - c1f) / Kmax) * i\n",
    "    c2  = c2i - ( ( c2i - c2f) / Kmax) * i\n",
    "    w = wmax-(((wmax-wmin)/Kmax)*i)\n",
    "    \n",
    "    a.append(c1)  \n",
    "    b.append(c2)\n",
    "    c.append(w)   # inertia wieht \n",
    "#    print (c1i,\"   \",c2i, \"   C1f and C2f\", c1f, \"-----\", c2f)\n",
    "\n",
    "\n",
    "#-------------------------------------------------------*\n",
    "\n",
    "import matplotlib.pyplot as plt\n",
    "import numpy as np\n",
    "\n",
    "t = np.arange(Kmax)/Kmax\n",
    "plt.plot(t, a, \"r^\", t, b, \"bs\", t, c, \"g^\") #, t, d, \"ys\" )\n",
    "plt.show()"
   ]
  },
  {
   "cell_type": "markdown",
   "metadata": {},
   "source": [
    "# 2. EPSO-TVAC"
   ]
  },
  {
   "cell_type": "code",
   "execution_count": 3,
   "metadata": {},
   "outputs": [],
   "source": [
    "#-----------------------------------------------------*\n",
    "# CHIA E TUNGOM (CHEMAGO)\n",
    "# Jan 2020\n",
    "# EPSO-TVAC 2016\n",
    "#\n",
    "# [Research Paper] H. Illias, X. Chai, A. Bakar, Hybrid modified evolutionary particle swarm optimisation-time varying \n",
    "#                  accelerationcoefficient-artificial neural network for power transformer fault diagnosis,\n",
    "#                   Measurement 90 (2016) 94–102.\n",
    "#-----------------------------------------------------*\n",
    "\n",
    "import random \n",
    "import math \n",
    "\n",
    "#----------------------------------------------------*\n",
    "# Time Varying Acceleration coefiicients PSO\n",
    "#\n",
    "# c1(k+1) = c1i - ( ( c1i - c1f) / kmax) · k \n",
    "# c2(k+1) = c2i - ( ( c2i - c2f) / kmax) · k\n",
    "#\n",
    "# c1i  = initial cognitive acceleration and c1f  = final cognitive acceleration\n",
    "#\n",
    "# c2i  = initial social acceleration and c2f  = final social acceleration\n",
    "#\n",
    "#-----------------------------------------------------*\n",
    "\n",
    "c1i = 2.5     # is a constant \n",
    "c1f = 0.5     # is a constant \n",
    "c2i = 0.5     # is a constant \n",
    "c2f = 2.5     # is a constant\n",
    "\n",
    "wmax = 0.9    # maximum weight\n",
    "wmin = 0.4    # minimum weight \n",
    "\n",
    "Kmax = 50   # Number of interations\n",
    "\n",
    "# c1 is the cognitive acceleration, c2 is the social acceleration, c3 is social acceleration for rbest (random best)\n",
    "# tau is the learning dispersion factor\n",
    "# N is a random number b/n 0 and 1  (random.random())\n",
    "\n",
    "tau  = 0.2  # [0, 1] smaller values create a smooth straight line \n",
    "a, b, c, d = [],[],[],[]\n",
    "\n",
    "for i in range(Kmax):\n",
    "    \n",
    "    c1  = c1i - ( ( c1i - c1f) / Kmax) * i\n",
    "    c2  = c2i - ( ( c2i - c2f) / Kmax) * i\n",
    "    c3  = c1 * ( 1 - math.exp(-c2*Kmax) )\n",
    "    w   = wmax-(((wmax-wmin)/Kmax)*i)\n",
    "\n",
    "    w    = w  + (tau*random.random())\n",
    "    c1   = c1 + (tau*random.random())\n",
    "    c2   = c2 + (tau*random.random())\n",
    "    c3   = c3 + (tau*random.random())\n",
    "    \n",
    "    a.append(c1)\n",
    "    b.append(c2)\n",
    "    c.append(c3)\n",
    "    d.append(w)\n",
    "    \n",
    "# print (a)\n",
    "# print (b)\n",
    "# print (c)\n",
    "# print (w)\n",
    "#-------------------------------------------------------*"
   ]
  },
  {
   "cell_type": "code",
   "execution_count": 4,
   "metadata": {},
   "outputs": [
    {
     "data": {
      "image/png": "[encoded data removed]",
      "text/plain": [
       "<Figure size 432x288 with 1 Axes>"
      ]
     },
     "metadata": {
      "needs_background": "light"
     },
     "output_type": "display_data"
    }
   ],
   "source": [
    "t = np.arange(Kmax)/Kmax\n",
    "\n",
    "plt.plot(t, a, \"r^\", t, b, \"bs\", t, c, \"gs\", t, d, \"y^\" )\n",
    "plt.show()"
   ]
  },
  {
   "cell_type": "markdown",
   "metadata": {},
   "source": [
    "# 3. PSO-SCAC "
   ]
  },
  {
   "cell_type": "code",
   "execution_count": 5,
   "metadata": {},
   "outputs": [],
   "source": [
    "#-----------------------------------------------------*\n",
    "# CHIA E TUNGOM (CHEMAGO)\n",
    "# Jan 2020\n",
    "# PSO-SCAC (Sine Cosine acceleration Coefficients) 2018\n",
    "#\n",
    "# [Research Paper] K. Chen, F. Zhou, L. Yin, et al., A hybrid particle swarm optimizer with sine cosine acceleration\n",
    "#                  coefficient, Inf. Sci. 422 (2018) 218–241.\n",
    "#-----------------------------------------------------*\n",
    "\n",
    "\n",
    "#c1 = miu*math.sin( ( 1 - iter/maxiter)*(math.pi/2) ) + sig\n",
    "#c2 = miu*math.cos( ( 1 - iter/maxiter)*(math.pi/2) ) + sig\n",
    "\n",
    "# c1 [2.5, 0.5]  c2 [ 0.5, 2]   \n",
    "\n",
    "\n",
    "miu = 2   \n",
    "sig = 0.5\n",
    "maxiter = 50\n",
    "\n",
    "a, b = [], [] \n",
    "for i in range(maxiter):\n",
    "    \n",
    "    c1 = miu*math.sin( ( 1 - i/maxiter)*(math.pi/2) ) + sig\n",
    "    c2 = miu*math.cos( ( 1 - i/maxiter)*(math.pi/2) ) + sig\n",
    "    \n",
    "    a.append(c1)\n",
    "    b.append(c2)"
   ]
  },
  {
   "cell_type": "code",
   "execution_count": 6,
   "metadata": {},
   "outputs": [
    {
     "data": {
      "image/png": "[encoded data removed]",
      "text/plain": [
       "<Figure size 432x288 with 1 Axes>"
      ]
     },
     "metadata": {
      "needs_background": "light"
     },
     "output_type": "display_data"
    }
   ],
   "source": [
    "t = np.arange(maxiter)/maxiter\n",
    "plt.plot(t, a, \"r^\", t, b, \"bs\")\n",
    "plt.show()"
   ]
  },
  {
   "cell_type": "markdown",
   "metadata": {},
   "source": [
    "# 4. PSO-NDAC"
   ]
  },
  {
   "cell_type": "code",
   "execution_count": 7,
   "metadata": {},
   "outputs": [],
   "source": [
    "#-----------------------------------------------------*\n",
    "# CHIA E TUNGOM (CHEMAGO)\n",
    "# Jan 2020\n",
    "# PSO-NDAC (Non linear dynamic acceleration coefficients) 2018\n",
    "#\n",
    "# [Research Paper] K. Chen, F. Zhou, Y. Wang, et al., An ameliorated particle swarm optimizer for solving numerical \n",
    "# optimization problems, Appl. Soft Comput. 73 (2018) 482–496.\n",
    "#-----------------------------------------------------*\n",
    "\n",
    "\n",
    "#----------------------------------------------------*\n",
    "# Time Varying Acceleration coefiicients PSO\n",
    "#\n",
    "# c1(k+1) = - (c1f - c1i) * ( (iter/itermax)**2) + c1f \n",
    "# c2(k+1) = c2i * ( (1 - (iter/itermax) )**2) + (c2f * (iter/itermax) ) \n",
    "#\n",
    "# c1i  = initial cognitive acceleration and c1f  = final cognitive acceleration\n",
    "#\n",
    "# c2i  = initial social acceleration and c2f  = final social acceleration\n",
    "#\n",
    "#-----------------------------------------------------*\n",
    "\n",
    "c1i = 2.5     # changes after every interation\n",
    "c1f = 0.5     # changes after every interation\n",
    "#c2i = 0.5     # is a constant \n",
    "#c2f = 2.5     # is a constant\n",
    "\n",
    "itermax = 50   # Number of interations\n",
    "\n",
    "a, b = [], [] \n",
    "\n",
    "# for another variation reported in literature, switch c1i and c1f in the c1 and c2 equations \n",
    "for i in range(itermax):\n",
    "    c1  = -( (c1i - c1f) *  ( (i/itermax)**2 ) ) + c1i\n",
    "    c2  = (c1f * ( (1 - (i/itermax) )**2) )+ (c1i * (i/itermax) ) \n",
    "    \n",
    "    a.append(c1)\n",
    "    b.append(c2)\n",
    "\n",
    "\n",
    "#-------------------------------------------------------*"
   ]
  },
  {
   "cell_type": "code",
   "execution_count": 8,
   "metadata": {},
   "outputs": [
    {
     "data": {
      "image/png": "[encoded data removed]",
      "text/plain": [
       "<Figure size 432x288 with 1 Axes>"
      ]
     },
     "metadata": {
      "needs_background": "light"
     },
     "output_type": "display_data"
    }
   ],
   "source": [
    "t = np.arange(itermax)/itermax\n",
    "plt.plot(t, a, \"r^\", t, b, \"bs\")\n",
    "plt.show()"
   ]
  },
  {
   "cell_type": "markdown",
   "metadata": {},
   "source": [
    "# 4.1 PSO-NDAC Switched c1i and c1f"
   ]
  },
  {
   "cell_type": "code",
   "execution_count": 9,
   "metadata": {},
   "outputs": [
    {
     "data": {
      "image/png": "[encoded data removed]",
      "text/plain": [
       "<Figure size 432x288 with 1 Axes>"
      ]
     },
     "metadata": {
      "needs_background": "light"
     },
     "output_type": "display_data"
    }
   ],
   "source": [
    "# CHIA E TUNGOM (CHEMAGO)\n",
    "# Jan 2020\n",
    "# I tried something out with the PSO-NDAC. Yaay the results are the accelration coefficient plotted below. \n",
    "# simply switch c1i and c1f in PSO-NDAC\n",
    "# Same as PSO-NDAC only with switched initial and final c's\n",
    "\n",
    "c1i = 2.5     # changes after every interation\n",
    "c1f = 0.5     # changes after every interation\n",
    "#c2i = 0.5     # is a constant \n",
    "#c2f = 2.5     # is a constant\n",
    "\n",
    "itermax = 50   # Number of interations\n",
    "\n",
    "a, b = [], [] \n",
    "\n",
    "# for another variation reported in literature, switch c1i and c1f in the c1 and c2 equations \n",
    "for i in range(itermax):\n",
    "    c1  = -( (c1f - c1i) *  ( (i/itermax)**2 ) ) + c1f\n",
    "    c2  = (c1i * ( (1 - (i/itermax) )**2) )+ (c1f * (i/itermax) ) \n",
    "    \n",
    "    a.append(c1)\n",
    "    b.append(c2)\n",
    "    \n",
    "t = np.arange(itermax)/itermax\n",
    "plt.plot(t, a, \"r^\", t, b, \"bs\")\n",
    "plt.show()"
   ]
  },
  {
   "cell_type": "markdown",
   "metadata": {},
   "source": [
    "# 5. PSO-ExpAC"
   ]
  },
  {
   "cell_type": "code",
   "execution_count": 11,
   "metadata": {},
   "outputs": [
    {
     "data": {
      "image/png": "[encoded data removed]",
      "text/plain": [
       "<Figure size 432x288 with 1 Axes>"
      ]
     },
     "metadata": {
      "needs_background": "light"
     },
     "output_type": "display_data"
    }
   ],
   "source": [
    "#-----------------------------------------------------*\n",
    "# CHIA E TUNGOM (CHEMAGO)\n",
    "# Jan 2020\n",
    "# Exponential Time Varying Acceleration coefiicients and inertia weight PSO -2015\n",
    "#\n",
    "# [Research Paper] Chengwei Yang, Wei Gao, Nengguang Liu, Chongmin Song. Low-discrepancy sequence initialized \n",
    "#                   particle swarm optimization algorithm with high-order nonlinear time-varying inertia weight \n",
    "#                   Applied Soft Computing, Volume 29, April 2015, Pages 386-394\n",
    "#---------------------------------------------------*\n",
    "\n",
    "# w(k+1) = wmax -(wmax -wmin)*(k/kmax )^alpha\n",
    "# c1(k+1) = c1i - (c1i - c1f )*(k/kmax )^beta\n",
    "# c2(k+1) = c2i - (c2i -c2f )*(k/kmax )^gamma\n",
    "#\n",
    "# c1i  = initial cognitive acceleration and c1f  = final cognitive acceleration\n",
    "#\n",
    "# c2i  = initial social acceleration and c2f  = final social acceleration\n",
    "#\n",
    "# alpha , beta and gamma are constants\n",
    "#\n",
    "# Python code\n",
    "#-----------------------------------------------------*\n",
    "\n",
    "c1i = 2.5     # changes after every interation\n",
    "c1f = 0.5     # is a constant \n",
    "c2i = 0.5     # changes after every iteration\n",
    "c2f = 2.5     # is a constant\n",
    "\n",
    "wmax = 2    # maximum weight\n",
    "wmin = 0    # minimum weight\n",
    "\n",
    "alpha = 1/(math.pi**2)  # 0.10132118364233778\n",
    "beta = 1\n",
    "gamma = 1\n",
    "\n",
    "Kmax = 50   # Number of interations\n",
    "\n",
    "a, b , c = [], [] ,[]\n",
    "for i in range(Kmax):\n",
    "    w = wmax - ( (wmax- wmin)*(i /Kmax )**alpha )\n",
    "    c2  = c2i - ( ( c2i - c2f) *( i/ Kmax )**gamma)\n",
    "    c1  = c1i - ( ( c1i - c1f) * ( i/ Kmax )**beta)\n",
    "    \n",
    "    a.append(c1)\n",
    "    b.append(c2)\n",
    "    c.append(w)\n",
    "t = np.arange(Kmax)/Kmax\n",
    "plt.plot(t, a, \"r^\", t, b, \"bs\", t, c, \"ys\")\n",
    "plt.show()    \n"
   ]
  },
  {
   "cell_type": "markdown",
   "metadata": {},
   "source": [
    "# 6. PSO-SBAC"
   ]
  },
  {
   "cell_type": "code",
   "execution_count": 12,
   "metadata": {},
   "outputs": [
    {
     "data": {
      "image/png": "[encoded data removed]",
      "text/plain": [
       "<Figure size 432x288 with 1 Axes>"
      ]
     },
     "metadata": {
      "needs_background": "light"
     },
     "output_type": "display_data"
    }
   ],
   "source": [
    "#-----------------------------------------------------*\n",
    "# CHIA E TUNGOM (CHEMAGO)\n",
    "# Jan 2020\n",
    "# PSO-SBAC (Sigmoid Based Acceleration Coefficients) 2019\n",
    "#\n",
    "#[Research Paper] Dongping Tian, Xiaofei Zhao, Zhongzhi Shi. Chaotic particle swarm optimization with sigmoid-based\n",
    "#                 acceleration coefficients for numerical function optimization Swarm and Evolutionary Computation, \n",
    "#                 Volume 51, December 2019, Article 100573\n",
    "#-----------------------------------------------------*\n",
    "\n",
    "#----------------------------------------------------*\n",
    "# Time Varying Acceleration coefiicients PSO\n",
    "#\n",
    "# c1(iter) = 1/(1+ math.exp(-lanmbda*iter/itermax) ) + 2*(c1f - c1i) * ( (iter/itermax) - 1) **2\n",
    "# \n",
    "# c2(iter) = 1/(1+ math.exp(-lanmbda*iter/itermax) ) + (c1f - c1i) * (iter/itermax) **2\n",
    "#\n",
    "# w = (Wmax- Wmin)*( ( itermax-iter)/itermax ) + Wmin\n",
    "#\n",
    "# c1i  = initial cognitive acceleration and c1f  = final cognitive acceleration\n",
    "#\n",
    "# c2i  = initial social acceleration and c2f  = final social acceleration\n",
    "#\n",
    "#-----------------------------------------------------*\n",
    "\n",
    "c1i = 2.5     # is a constant \n",
    "c1f = 0.5     # is a constant \n",
    "c2i = 0.5     # is a constant \n",
    "c2f = 2.5     # is a constant\n",
    "\n",
    "Wmin = 0.4\n",
    "Wmax = 0.9\n",
    "lambd = 0.0001\n",
    "\n",
    "itermax = 50   # Number of interations\n",
    "\n",
    "a, b, c = [], [], [] \n",
    "\n",
    "for i in range(itermax):\n",
    "    c1  = (1/(1+ math.exp(-lambd*i/itermax) )) + (((c1i - c1f)) * (( (i/itermax) - 1) **2)) \n",
    "    # multiplplying (c1i - c1f) by 2 scales up bound to 4 which is found in the original SBAC equation\n",
    "    \n",
    "    c2  = (1/(1+ math.exp(-lambd*i/itermax) )) + ((c2f - c2i) * ((i/itermax) **2))\n",
    "    \n",
    "    w = (Wmax- Wmin)*( ( itermax-i)/itermax ) + Wmin\n",
    "\n",
    "    a.append(c1)\n",
    "    b.append(c2)\n",
    "    c.append(w)\n",
    "    \n",
    "    \n",
    "t = np.arange(itermax)/itermax\n",
    "plt.plot(t, a, \"r^\", t, b, \"bs\", t, c, \"ys\")\n",
    "plt.show() "
   ]
  },
  {
   "cell_type": "markdown",
   "metadata": {},
   "source": [
    "# 7 Miscellaneous"
   ]
  },
  {
   "cell_type": "code",
   "execution_count": 15,
   "metadata": {},
   "outputs": [
    {
     "data": {
      "image/png": "[encoded data removed]",
      "text/plain": [
       "<Figure size 432x288 with 1 Axes>"
      ]
     },
     "metadata": {
      "needs_background": "light"
     },
     "output_type": "display_data"
    }
   ],
   "source": [
    "#-----------------------------------------------------*\n",
    "# CHIA E TUNGOM (CHEMAGO)\n",
    "# Jan 2020\n",
    "# \n",
    "# [Research Paper ] A. Jordehi, Time varying acceleration coefficients particle swarm optimisation (TVACPSO): a new optimisation \n",
    "#          algorithm for estimating parameters of PV cells an modules, Energy Convers. Manag. 129 (2016) 262–274.\n",
    "#-----------------------------------------------------*\n",
    "c1 = 1     # is a constant \n",
    "c2 = 1     # is a constant\n",
    "\n",
    "Kmax = 50   # Number of interations\n",
    "\n",
    "a, b  = [], [] \n",
    "for i in range(Kmax):\n",
    "   \n",
    "    c2  = c2 + ( 0.5 / Kmax )\n",
    "    c1  = c1 - ( 0.5 / Kmax )\n",
    "    \n",
    "    a.append(c1)\n",
    "    b.append(c2)\n",
    "\n",
    "t = np.arange(Kmax)/Kmax\n",
    "plt.plot(t, a, \"r^\", t, b, \"bs\")\n",
    "plt.show()    \n"
   ]
  },
  {
   "cell_type": "code",
   "execution_count": null,
   "metadata": {},
   "outputs": [],
   "source": []
  },
  {
   "cell_type": "code",
   "execution_count": 16,
   "metadata": {},
   "outputs": [
    {
     "data": {
      "image/png": "[encoded data removed]",
      "text/plain": [
       "<Figure size 432x288 with 1 Axes>"
      ]
     },
     "metadata": {
      "needs_background": "light"
     },
     "output_type": "display_data"
    }
   ],
   "source": [
    "#-----------------------------------------------------*\n",
    "# CHIA E TUNGOM (CHEMAGO)\n",
    "# Jan 2020\n",
    "#\n",
    "# [Research Paper] R. Kundu, S. Das, R. Mukherjee, et al., An improved particle swarm optimizer with difference mean \n",
    "#         based perturbation, Neurocomputing 129 (2014) 315–333.\n",
    "#-----------------------------------------------------*\n",
    "\n",
    "c1 = 1     # is a constant \n",
    "c2 = 1     # is a constant \n",
    "\n",
    "Kmax = 50   # Number of interations\n",
    "\n",
    "a, b  = [], [] \n",
    "for i in range(Kmax):\n",
    "   \n",
    "    c1  = 0.5 + (0.5*math.exp(-i/500)) + (1.4*(math.sin(i)/30))\n",
    "    c2  = 1 + (1.4*(1 - math.exp(-i/500)) ) + (1.4*(math.sin(i)/30))\n",
    "    \n",
    "    a.append(c1)\n",
    "    b.append(c2)\n",
    "\n",
    "t = np.arange(Kmax)/Kmax\n",
    "plt.plot(t, a, \"r^\", t, b, \"bs\")\n",
    "plt.show()    "
   ]
  },
  {
   "cell_type": "code",
   "execution_count": null,
   "metadata": {},
   "outputs": [],
   "source": []
  },
  {
   "cell_type": "code",
   "execution_count": 17,
   "metadata": {},
   "outputs": [
    {
     "data": {
      "image/png": "[encoded data removed]",
      "text/plain": [
       "<Figure size 432x288 with 1 Axes>"
      ]
     },
     "metadata": {
      "needs_background": "light"
     },
     "output_type": "display_data"
    }
   ],
   "source": [
    "#-----------------------------------------------------*\n",
    "# CHIA E TUNGOM (CHEMAGO)\n",
    "# Jan 2020\n",
    "#\n",
    "# [Paper] J. Agrawal, S. Agrawal, Acceleration based particle swarm optimization for graph\n",
    "#     coloring problem, Procedia Computer Science 60 (2015) 714–721.\n",
    "#----------------------------------------------------*\n",
    "\n",
    "c1 = 1     # is a constant \n",
    "c2 = 1     # \n",
    "lambd = 0.005\n",
    "Kmax = 50   # Number of interations\n",
    "\n",
    "a, b  = [], [] \n",
    "for i in range(Kmax):\n",
    "   \n",
    "    c2  = c2 * ( 1 + lambd)\n",
    "    c1  = c1 * ( 1 - lambd)\n",
    "    \n",
    "    a.append(c1)\n",
    "    b.append(c2)\n",
    "\n",
    "t = np.arange(Kmax)/Kmax\n",
    "plt.plot(t, a, \"r^\", t, b, \"bs\")\n",
    "plt.show()    \n"
   ]
  },
  {
   "cell_type": "code",
   "execution_count": null,
   "metadata": {},
   "outputs": [],
   "source": []
  },
  {
   "cell_type": "code",
   "execution_count": 18,
   "metadata": {},
   "outputs": [
    {
     "data": {
      "image/png": "[encoded data removed]",
      "text/plain": [
       "<Figure size 432x288 with 1 Axes>"
      ]
     },
     "metadata": {
      "needs_background": "light"
     },
     "output_type": "display_data"
    }
   ],
   "source": [
    "#-----------------------------------------------------*\n",
    "# CHIA E TUNGOM (CHEMAGO)\n",
    "# Jan 2020\n",
    "# \n",
    "# [Paper] A. Ratnaweera, S. Halgamuge, H. Watson, Self-organizing hierarchical particle swarm optimizer with time-varying \n",
    "#         acceleration coefficients, IEEE Trans. Evol Comput. 8 (3) (2004) 240–255.\n",
    "#-----------------------------------------------------*\n",
    "\n",
    "c1i = 2.5     # is a constant\n",
    "c1f = 0.5     # is a constant \n",
    "c2i = 0.5     # is a constant \n",
    "c2f = 2.5     # is a constant\n",
    "\n",
    "Kmax = 50   # Number of interations\n",
    "\n",
    "a, b = [],[]\n",
    "\n",
    "for i in range(Kmax):\n",
    "    c1  =  ( c1i - c1f)* ((Kmax-i)/Kmax) + c1f\n",
    "    c2  =  ( c2i - c2f)* ((Kmax-i)/Kmax) + c2f\n",
    "    w = wmax-(((wmax-wmin)/Kmax)*i)\n",
    "    \n",
    "    a.append(c1)\n",
    "    b.append(c2)\n",
    "\n",
    "\n",
    "t = np.arange(Kmax)/Kmax\n",
    "plt.plot(t, a, \"r^\", t, b, \"bs\") #, t, c, \"g^\") #, t, d, \"ys\" )\n",
    "plt.show()"
   ]
  },
  {
   "cell_type": "code",
   "execution_count": null,
   "metadata": {},
   "outputs": [],
   "source": []
  }
 ],
 "metadata": {
  "kernelspec": {
   "display_name": "Python [default]",
   "language": "python",
   "name": "python3"
  },
  "language_info": {
   "codemirror_mode": {
    "name": "ipython",
    "version": 3
   },
   "file_extension": ".py",
   "mimetype": "text/x-python",
   "name": "python",
   "nbconvert_exporter": "python",
   "pygments_lexer": "ipython3",
   "version": "3.5.6"
  }
 },
 "nbformat": 4,
 "nbformat_minor": 2
}
